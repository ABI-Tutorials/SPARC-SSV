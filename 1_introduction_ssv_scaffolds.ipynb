{
 "cells": [
  {
   "cell_type": "markdown",
   "id": "db179bd7-3fd5-42c0-81e3-67fdd451bc56",
   "metadata": {},
   "source": [
    "# Introduction to Subject-Specific Vagus Scaffolds\n",
    "\n",
    "Subject-Specific Vagus (SSV) Scaffolds created for the SPARC REVA Phase 2 project are a specialized Finite Element Model which defines a consistent coordinate system for the volume of the human vagus trunk, with arbitrary numbers of branches radiating out from starting locations embedded in the trunk/parent branch volume. Each scaffold is defined with three coordinate fields:\n",
    "\n",
    "1. `coordinates` fitted to the geometry the scaffold was fitted, usually the excised configuration stitched from micro-CT segmentations. The trunk also includes fitted orientation/twist and radius where data has been provided. Branches are fitted to provided path data.\n",
    "2. `straight coordinates`, a version of the geometric coordinates using the same scale but with the trunk going straight down the z-axis, and all twist removed so that the x-axis is anatomically left and y-axis is the anterior direction, centred at x, y = (0, 0). Branches radiate out in their starting anatomical directions.\n",
    "3. `vagus coordinates`, an invariant 'material' coordinate system for the trunk of all subjects, with the z/3-axis giving a normalized measure down the vagus from 0.0 near the brainstem to 1.0 at full length but actually calibrated by level markers at fixed locations down its centroid. These coordinates have fixed radius giving an aspect ratio equivalent to 3mm diameter of nerve epineurium over 500mm length.\n",
    "\n",
    "![SSV coordinate fields](images/ssv_3_coordinate_fields.png \"Subject-Specific Vagus Scaffolds, from left-to-right 1. coordinates, 2. straight coordinates, 3. vagus coordinates (unit length)\")\n",
    "**Figure 1. Subject-Specific Vagus Scaffold coordinates** From left-to-right: 1. coordinates, 2. straight coordinates, 3. vagus coordinates (scaled from unit length). Translucent surfaces show the round equivalent-area epineurium surface, but the bounds of the scaffold is a box of twice these dimensions to enclose the true cross-section shape and nearby tissue.\n",
    "\n",
    "The boxes along the vagus trunk and branches in Figure 1 are 3-D hexahedral finite elements with local coordinate systems spanning from 0.0 to 1.0 along three directions down the vagus, left and up. These are entirely defined as functions of coordinate position and direction parameters along the centroid of the trunk and branches, and 2-D epineurium surfaces and 1-D centroid lines are defined from the same parameters. The start of each branch is defined  by general linear mapping of parent/trunk parameters making them fully embedded or built-in to their host at that point, preserving their relative directions when the scaffold is fitted to other configurations such as in-body trace data.\n",
    "\n",
    "Due to the specialized nature of these models and the esoteric EX file format it is easiest to extract information by evaluating it using the [cmlibs.zinc library API](https://cmlibs.org/documentation/api), or **Zinc** from its Python interface. This can be installed via pip:"
   ]
  },
  {
   "cell_type": "code",
   "execution_count": 1,
   "id": "b381e88c-9e38-4a33-bfb3-bad412d794bf",
   "metadata": {},
   "outputs": [
    {
     "name": "stdout",
     "output_type": "stream",
     "text": [
      "Requirement already satisfied: cmlibs.zinc in c:\\users\\gchr006\\pyvenv311\\map\\lib\\site-packages (4.2.1)\n",
      "Note: you may need to restart the kernel to use updated packages.\n"
     ]
    }
   ],
   "source": [
    "pip install cmlibs.zinc"
   ]
  },
  {
   "cell_type": "markdown",
   "id": "7a280317-d522-438a-a171-52e43b14a44c",
   "metadata": {},
   "source": [
    "The following code reads a simple test vagus scaffold included with this tutorial (noting that one can equivalently load the EX file output from the Scaffold Creator plug produced from stitched vagus micro-CT segmentations in the REVA-derived vagus scaffold dataset), gets the trunk group, the coordinate fields and evaluates the geometric coordinates at locations down the centroid of the trunk."
   ]
  },
  {
   "cell_type": "code",
   "execution_count": 6,
   "id": "e5cae396-954c-4b38-878d-2df723da165a",
   "metadata": {},
   "outputs": [
    {
     "name": "stdout",
     "output_type": "stream",
     "text": [
      "Read scaffold success: True\n",
      "coordinates has 3 components.\n",
      "straight coordinates has 3 components.\n",
      "vagus coordinates has 3 components.\n",
      "Vagus trunk contains 25 elements.\n",
      "Element 1 coordinates [-720.8203637680142, -6652.227292847368, -38.10529956217343]\n",
      "Element 2 coordinates [1906.8389128225303, -7374.81394841826, 50.45597229581807]\n",
      "Element 3 coordinates [4268.839102884901, -6550.804058621278, -4.619454469083853]\n",
      "Element 4 coordinates [5896.570479428751, -4546.896355884268, -171.34989651102575]\n",
      "Element 5 coordinates [7933.219021121138, -3226.798516228627, -303.1244298308453]\n",
      "Element 6 coordinates [10262.278713530744, -2701.1377344879293, -388.2400323890354]\n",
      "Element 7 coordinates [12653.932997043496, -2671.4261721152957, -444.3926826701179]\n",
      "Element 8 coordinates [15090.476107135917, -2687.239397013903, -449.51294659698925]\n",
      "Element 9 coordinates [17528.473750782807, -2677.898895464176, -432.29371373631153]\n",
      "Element 10 coordinates [19970.522026089853, -2841.3200970070307, -573.6343430536429]\n",
      "Element 11 coordinates [22364.564093915364, -3335.9914516136005, -594.0976644729816]\n",
      "Element 12 coordinates [24630.573707276133, -4221.83526327484, -434.16653336911486]\n",
      "Element 13 coordinates [26938.135624238694, -4897.86606729724, -260.14499106095604]\n",
      "Element 14 coordinates [29442.97694404958, -4907.788389652714, -184.78151950092902]\n",
      "Element 15 coordinates [31939.61379642237, -4892.349245021336, -85.53577024929164]\n",
      "Element 16 coordinates [34435.92114989245, -4890.080250200846, 15.5035134985363]\n",
      "Element 17 coordinates [36932.2042549237, -4887.79933727192, 116.5365253465603]\n",
      "Element 18 coordinates [39428.48589961305, -4885.507662191683, 217.56470901221655]\n",
      "Element 19 coordinates [41924.767562873705, -4883.206454144994, 318.5886695771907]\n",
      "Element 20 coordinates [44421.04932675443, -4880.896945827201, 419.60895657725155]\n",
      "Element 21 coordinates [46917.33118170252, -4878.580369041596, 520.6261154084059]\n",
      "Element 22 coordinates [49413.613112202926, -4876.257954579074, 621.6406907743639]\n",
      "Element 23 coordinates [51909.89510235881, -4873.930932378441, 722.6532269856797]\n",
      "Element 24 coordinates [54406.177136257334, -4871.6005317049285, 823.6642680538137]\n",
      "Element 25 coordinates [56902.459197989956, -4869.267981329848, 924.6743577715488]\n"
     ]
    }
   ],
   "source": [
    "from cmlibs.zinc.context import Context\n",
    "from cmlibs.zinc.result import RESULT_OK\n",
    "\n",
    "# the Zinc Context is the top-level object from which all others are obtained\n",
    "context = Context(\"SSV introduction\")\n",
    "# a region is like a file system folder, in which meshes, nodeset and fields are equivalent to files, and child regions have their own namespaces\n",
    "region = context.getDefaultRegion()\n",
    "result = region.readFile(\"resources/vagus_test_scaffold1.exf\")\n",
    "print(\"Read scaffold success:\", result == RESULT_\n",
    "# the fieldmodule provides API for accessing objects local to the region\n",
    "fieldmodule = region.getFieldmodule()\n",
    "# the following fields are defined on the scaffold as shown above\n",
    "coordinates = fieldmodule.findFieldByName(\"coordinates\")\n",
    "straight_coordinates = fieldmodule.findFieldByName(\"straight coordinates\")\n",
    "vagus_coordinates = fieldmodule.findFieldByName(\"vagus coordinates\")\n",
    "# each of these fields produces 3 components\n",
    "for field in (coordinates, straight_coordinates, vagus_coordinates):\n",
    "    print(field.getName(), \"has\", coordinates.getNumberOfComponents(), \"components.\")\n",
    "# in order to evaluate fields we need a Fieldcache object in which we specify where to evaluate, and in which intermediate values are cached\n",
    "fieldcache = fieldmodule.createFieldcache()\n",
    "# a mesh is a collection of all the elements of a given dimension in the region\n",
    "mesh3d = fieldmodule.findMeshByDimension(3)\n",
    "# a group is dually a container of model parts such as elements and node, and a field returning True at locations within its domain\n",
    "# we need to cast it to it's derived type to access type-specific API:\n",
    "trunk_group = fieldmodule.findFieldByName(\"left vagus nerve\").castGroup()\n",
    "# a mesh group is a specialization of a mesh containing only the subset of elements from that mesh which have been added to this group\n",
    "trunk_mesh_group3d = trunk_group.getMeshGroup(mesh3d)\n",
    "print(\"Vagus trunk contains\", trunk_mesh_group3d.getSize(), \"elements.\")\n",
    "# we can iterate over the mesh or the mesh group; in either case iteration is in the same order as the element identifiers (i.e. numbers)\n",
    "elementiterator = trunk_mesh_group3d.createElementiterator()\n",
    "# following is the location in each element to evaluate: 1/4 along (down the vagus) and at the centroid of the cross-section\n",
    "xi = [0.25, 0.5, 0.5]\n",
    "element = elementiterator.next()\n",
    "while element.isValid():\n",
    "    element_identifier = element.getIdentifier()\n",
    "    fieldcache.setMeshLocation(element, xi)\n",
    "    result, x = coordinates.evaluateReal(fieldcache, 3)\n",
    "    print(\"Element\", element_identifier, \"coordinates\", x)\n",
    "    element = elementiterator.next()"
   ]
  },
  {
   "cell_type": "markdown",
   "id": "73761440-fb5d-47b6-8ff3-e1fb9946dcfc",
   "metadata": {},
   "source": [
    "The following code gets a branch group and determines the vagus coordinates where it originates in the parent (trunk), and the anatomical direction it initially points"
   ]
  },
  {
   "cell_type": "code",
   "execution_count": 15,
   "id": "7eeb1ac5-e714-4fb6-a84f-faf9ae830353",
   "metadata": {},
   "outputs": [
    {
     "name": "stdout",
     "output_type": "stream",
     "text": [
      "Found branch True\n",
      "Branch 'left A thoracic cardiopulmonary branch of vagus nerve':\n",
      "    vagus coordinates [-0.0003328408968624165, 1.7493737182796838e-05, 0.3813658363063589] \n",
      "    anatomical direction [-0.9097938227559508, 0.38257762513656673, 0.16096447067591738]\n"
     ]
    }
   ],
   "source": [
    "# get function to make a vector init length\n",
    "from cmlibs.maths.vectorops import normalize\n",
    "\n",
    "branch_name = \"left A thoracic cardiopulmonary branch of vagus nerve\"\n",
    "branch_group = fieldmodule.findFieldByName(branch_name).castGroup()\n",
    "print(\"Found branch\", branch_group.isValid())\n",
    "branch_mesh_group3d = branch_group.getMeshGroup(mesh3d)\n",
    "# get the first element in the branch, since these are created from the start with increasing element numbers\n",
    "first_branch_element = branch_mesh_group3d.createElementiterator().next()\n",
    "# want to evaluate the location and direction at the very start, i.e. 0.0 along the first branch element\n",
    "xi = [0.0, 0.5, 0.5]\n",
    "# need to request derivative of coordinates w.r.t. element coordinate along the vagus\n",
    "derivative_xi1 = mesh3d.getChartDifferentialoperator(1, 1)\n",
    "fieldcache.setMeshLocation(first_branch_element, xi)\n",
    "_, branch_vagus_coordinate = vagus_coordinates.evaluateReal(fieldcache, 3)\n",
    "_, d1 = straight_coordinates.evaluateDerivative(derivative_xi1, fieldcache, 3)\n",
    "# branch direction axes are (left, anterior, down the body)\n",
    "branch_direction = normalize(d1)\n",
    "print(\"Branch '\" + branch_name + \"':\\n    vagus coordinates\", branch_vagus_coordinate, \"\\n    anatomical direction\", branch_direction)"
   ]
  },
  {
   "cell_type": "markdown",
   "id": "7ad9b79e-67a7-41c1-bf58-2cf13347ca73",
   "metadata": {},
   "source": [
    "This ends this first introduction which demonstrates the type of code to query and evaluate information in vagus scaffolds.\n",
    "\n",
    "Subsequent tutorials will increasingly use specially-written utility functions to extract key information without forcing the use of low-level coding. All these utilities will be free and open source, but that doesn't mean they will be trivial to understand; the scaffolds are encoded as finite element models, with generic grouping features used to mark branches and other features. It's often necessary to do extra work to recover hierarchical groupings which are not inherently understood in the generic structure."
   ]
  }
 ],
 "metadata": {
  "kernelspec": {
   "display_name": "Python 3 (ipykernel)",
   "language": "python",
   "name": "python3"
  },
  "language_info": {
   "codemirror_mode": {
    "name": "ipython",
    "version": 3
   },
   "file_extension": ".py",
   "mimetype": "text/x-python",
   "name": "python",
   "nbconvert_exporter": "python",
   "pygments_lexer": "ipython3",
   "version": "3.11.4"
  }
 },
 "nbformat": 4,
 "nbformat_minor": 5
}
