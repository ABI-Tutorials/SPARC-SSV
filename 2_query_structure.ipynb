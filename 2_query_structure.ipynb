{
 "cells": [
  {
   "cell_type": "markdown",
   "id": "fa945d6a-732b-4144-aae6-ff60fad27ad6",
   "metadata": {},
   "source": [
    "# Querying Vagus Structure with *ssvtools*\n",
    "\n",
    "Subject-Specific Vagus scaffolds files can be queried using the [Zinc API](https://cmlibs.org/documentation/api/) however, because it only provides a general interface to Finite Element models, another Python library [ssvtools](https://github.com/ABI-Software/ssvtools) is provided as a layer over Zinc to work more conveniently with SPARC vagus scaffolds, and its functions are used in combination with direct Zinc API. You are encouraged to read and reuse the code for these utilities.\n",
    "\n",
    "In the following a test vagus scaffold is loaded and its structure is queried with the ssvtools' `get_vagus_structure_maps()` function."
   ]
  },
  {
   "cell_type": "code",
   "execution_count": 2,
   "id": "0b3516b1-01a3-40ae-9d22-7a3d06a1d15e",
   "metadata": {},
   "outputs": [],
   "source": [
    "from cmlibs.zinc.context import Context\n",
    "from ssvtools.query_structure import (\n",
    "    evaluate_branch_start_coordinates, get_marker_data, get_vagus_structure_maps, get_vagus_trunk_group)\n",
    "\n",
    "context = Context(\"SPARC-SSV\")\n",
    "region = context.getDefaultRegion()\n",
    "result = region.readFile(\"resources/vagus_test_scaffold1.exf\")\n",
    "fieldmodule = region.getFieldmodule()\n",
    "structure_map, common_branch_map = get_vagus_structure_maps(fieldmodule)"
   ]
  },
  {
   "cell_type": "markdown",
   "id": "43afa8e0-8e99-4202-a61b-d3d26c93db1c",
   "metadata": {},
   "source": [
    "The first return value is a dict mapping from trunk/branch group names to a list [parent group name (or None), list of child group names]:"
   ]
  },
  {
   "cell_type": "code",
   "execution_count": 3,
   "id": "270cfc84-25df-45c9-886f-e3c133172489",
   "metadata": {},
   "outputs": [
    {
     "name": "stdout",
     "output_type": "stream",
     "text": [
      "{'left vagus nerve': [None, ['left A thoracic cardiopulmonary branch of vagus nerve', 'left B thoracic cardiopulmonary branch of vagus nerve', 'left superior laryngeal nerve']], 'left A branch of superior laryngeal nerve': ['left superior laryngeal nerve', []], 'left A thoracic cardiopulmonary branch of vagus nerve': ['left vagus nerve', []], 'left B thoracic cardiopulmonary branch of vagus nerve': ['left vagus nerve', []], 'left superior laryngeal nerve': ['left vagus nerve', ['left A branch of superior laryngeal nerve']]}\n"
     ]
    }
   ],
   "source": [
    "print(structure_map)"
   ]
  },
  {
   "cell_type": "markdown",
   "id": "ab89fd14-1f84-4f27-8b5c-1e5922017a62",
   "metadata": {},
   "source": [
    "The second return value is a map from common branch names to a list of variant branches with A, B, C, etc. in their name. The common group allows all branches innervating the same organ or structure to be visualized together (e.g. using Argon Viewer from the [SPARC Scaffold Mapping Tools](https://sparc.science/tools-and-resources/1mv8q3JckdpSYpPK9dvdKx)). Note that the common group names are not added into the structure map which exclusively contains the unique names of vagus trunk and branches specified in the source data the scaffold was generated from."
   ]
  },
  {
   "cell_type": "code",
   "execution_count": 4,
   "id": "9d0cd4e3-c8e2-42e0-8320-8769a6754bea",
   "metadata": {},
   "outputs": [
    {
     "name": "stdout",
     "output_type": "stream",
     "text": [
      "{'left branch of superior laryngeal nerve': ['left A branch of superior laryngeal nerve'], 'left thoracic cardiopulmonary branch of vagus nerve': ['left A thoracic cardiopulmonary branch of vagus nerve', 'left B thoracic cardiopulmonary branch of vagus nerve']}\n"
     ]
    }
   ],
   "source": [
    "print(common_branch_map)"
   ]
  },
  {
   "cell_type": "markdown",
   "id": "b97a27b4-2c3d-48db-8c15-3b1597c5a778",
   "metadata": {},
   "source": [
    "Next we wish to evaluate the vagus coordinates of the branches coming immediately off the trunk i.e. excluding branches of branches. The third component of vagus coordinates is the normalized coordinate down the trunk in the range [0.0, 1.0], while components 1 and 2 range over [-0.006, +0.006] in the left, anterior direction, chosen to give the nominal epineurium diameter a 3mm:500mm aspect ratio over length.\n",
    "\n",
    "![SSV vagus coordinates and markers](images/ssv_material_markers.png)\n",
    "\n",
    "**Figure 1. Vagus coordinates and <font color=\"red\">level markers</font>**\n",
    "\n",
    "The first 3-component vector after the branch name is the vagus coordinates where the branch originates. Note that branches need not start on the centroid of the trunk, and in fact should physically start near the epineurium.\n",
    "\n",
    "The second 3-component vector after the branch name is the direction the branch initially goes from the trunk in vagus coordinates, meaning it is compressed/stretched depending on the spacing of that subject's level markers compared to their reference positions.\n",
    "\n",
    "These coordinates are common across all vagus scaffolds so plotting these positions and directions for all subjects will show trends across the population. Note that while it's possible to get a mean vagus coordinates of the start of all branches to a common target, especially the 3rd component down the vagus, one cannot trivially average the directions as branches on opposite sides would cancel each other. Instead, the visualization of all subjects' positions of directions needs to inform what reduced forms can represent the population average."
   ]
  },
  {
   "cell_type": "code",
   "execution_count": 5,
   "id": "c47e99c7-564f-4985-b41f-828fa5403274",
   "metadata": {},
   "outputs": [
    {
     "name": "stdout",
     "output_type": "stream",
     "text": [
      "Vagus coordinates: [('left A thoracic cardiopulmonary branch of vagus nerve', [-0.0003328408968624165, 1.7493737182796838e-05, 0.3813658363063589], [-0.9106917613635638, 0.38295521752225525, 0.15487355215469165]), ('left B thoracic cardiopulmonary branch of vagus nerve', [0.0010020650864467912, -0.001554513928071552, 0.40674113258208205], [0.5645932995214857, -0.630854592172089, 0.5322188362608271]), ('left superior laryngeal nerve', [0.0008767095326078595, 0.00045882124897275354, 0.1315331326187551], [0.6662449900204912, 0.64287539363479, -0.3779270320200837])]\n"
     ]
    }
   ],
   "source": [
    "vagus_trunk_group = get_vagus_trunk_group(fieldmodule)\n",
    "vagus_trunk_group_name = vagus_trunk_group.getName()\n",
    "trunk_branch_list = structure_map[vagus_trunk_group_name][1]\n",
    "vagus_coordinates = fieldmodule.findFieldByName(\"vagus coordinates\")\n",
    "branch_start_vagus_coordinates = evaluate_branch_start_coordinates(vagus_coordinates, trunk_branch_list)\n",
    "print(\"Vagus coordinates:\", branch_start_vagus_coordinates)"
   ]
  },
  {
   "cell_type": "markdown",
   "id": "0387eb75-fc40-40d3-bc33-e5700d223643",
   "metadata": {},
   "source": [
    "Next we evaluate the start straight coordinates for all the branches off the trunk, which have a more physical meaning. The z-component is the physical distance down that subject's vagus trunk, while the (x, y) components give the offset from the centroid in the (left, anterior) direction, all in the same units the original micro-CT tracings were measured in. Straight coordinates are the best starting point for fitting to in-body tracings of the same subject, as they have both physically correct dimensions and are smooth and untwisted."
   ]
  },
  {
   "cell_type": "code",
   "execution_count": 6,
   "id": "7ecc62aa-ac45-4baa-9c95-6b3c7a8f5b3d",
   "metadata": {},
   "outputs": [
    {
     "name": "stdout",
     "output_type": "stream",
     "text": [
      "Straight coordinates: [('left A thoracic cardiopulmonary branch of vagus nerve', [-19.457496230805386, 1.0226637666995089, 23808.53001264119], [-0.9097938227559508, 0.38257762513656673, 0.16096447067591738]), ('left B thoracic cardiopulmonary branch of vagus nerve', [57.70817451180162, -89.52328771404899, 25364.382333258563], [0.5530901132994802, -0.6180013793215057, 0.5587178373088555]), ('left superior laryngeal nerve', [85.3419692789708, 44.66326357590322, 8624.57697803279], [0.6981983439472732, 0.6737079331530234, -0.24215014622330203])]\n"
     ]
    }
   ],
   "source": [
    "straight_coordinates = fieldmodule.findFieldByName(\"straight coordinates\")\n",
    "branch_start_straight_coordinates = evaluate_branch_start_coordinates(straight_coordinates, trunk_branch_list)\n",
    "print(\"Straight coordinates:\", branch_start_straight_coordinates)"
   ]
  },
  {
   "cell_type": "markdown",
   "id": "78b61c6a-016e-48f7-a128-6de730580dc7",
   "metadata": {},
   "source": [
    "The remaining \"coordinates\" field gives the geometric configuration the scaffold was created in, which for SPARC REVA data is the excised table or virtual stitched coordinate system which the Scaffold Mapping Tools' Segmentation Stitcher plugin outputs, so the positions are not anatomically realistic. It has an import role in that it is in the same configuration as the micro-CT images transformed with the translations and rotations calculated by the Segmentation Stitcher. Hence, positions in this coordinate system can be converted into the space of each micro-CT image for that subject, and through this, it is possible to map cross-section images of the vagus to fixed material coordinates down the trunk for apples-to-apples comparison of different subjects at the same vagus material coordinate.\n",
    "\n",
    "Next we can query the positions of level markers. The following function produces records of (marker name, marker location (element number, [element local coordinates 1, 2, 3]), marker vagus coordinates [, optional host coordinates]) for all level markers in order down the trunk. The marker points already know their vagus coordinates as they give it their permanent material locations, but one can optionally ask for a field on the host scaffold to be evaluated at their marker location e.g. straight coordinates. The vagus scaffold level marker names and their vagus coordinates are shown in Figure 1, above, for the left vagus nerve trunk."
   ]
  },
  {
   "cell_type": "code",
   "execution_count": 5,
   "id": "e1df34be-de53-4fb0-a216-81834b04f1ec",
   "metadata": {},
   "outputs": [
    {
     "name": "stdout",
     "output_type": "stream",
     "text": [
      "[('left level of superior border of jugular foramen on the vagus nerve', (1, [0.6843240000000003, 0.5, 0.5]), [0.0, 0.0, 0.02737296], [-6.50506937191939e-14, -1.310900721441712e-14, 1774.9571795976287]), ('left level of inferior border of jugular foramen on the vagus nerve', (2, [0.1087380000000001, 0.5, 0.5]), [0.0, 0.0, 0.04434952], [1.0209665570151899e-13, 9.768198918855594e-14, 2991.9103185208987]), ('left level of angle of the mandible on the vagus nerve', (4, [0.1332685000000003, 0.5, 0.5]), [0.0, 0.0, 0.12533074], [1.4483477432177637e-14, 2.1376726263214913e-14, 8245.63333162319]), ('left level of carotid bifurcation on the vagus nerve', (4, [0.9345910000000012, 0.5, 0.5]), [0.0, 0.0, 0.15738364], [-8.404728289972044e-14, 1.2993009323710421e-14, 10174.73968280258]), ('left level of laryngeal prominence on the vagus nerve', (6, [0.1354834999999998, 0.5, 0.5]), [0.0, 0.0, 0.20541934], [3.3090283510828584e-14, -1.6217927879715146e-14, 13115.836142905777]), ('left level of superior border of the clavicle on the vagus nerve', (9, [0.4619939999999999, 0.5, 0.5]), [0.0, 0.0, 0.33847976], [3.197424311348175e-14, 3.8604867982647756e-14, 21182.365707090583]), ('left level of jugular notch on the vagus nerve', (10, [0.515577750000001, 0.5, 0.5]), [0.0, 0.0, 0.38062311], [4.9203238902202615e-14, 5.4205666260696657e-14, 23763.36090724233]), ('left level of sternal angle on the vagus nerve', (13, [0.09881600000000146, 0.5, 0.5]), [0.0, 0.0, 0.48395264], [7.528280380809436e-14, 7.334399515678671e-14, 30050.97537892891])]\n"
     ]
    }
   ],
   "source": [
    "marker_data = get_marker_data(fieldmodule, straight_coordinates)\n",
    "print(marker_data)"
   ]
  },
  {
   "cell_type": "markdown",
   "id": "337298e1-3528-438d-a305-54669c5be002",
   "metadata": {},
   "source": [
    "In developing the vagus scaffold we callibrated the spacing of the 3rd component of the level markers' vagus coordinates to match proportionately to their average physical distance (z-component of the straight coordinates) over the population), so developing the vagus scaffolds for the SPARC REVA projects is optimized over at least 2 iterations, with separate values for left and right vagus trunks."
   ]
  }
 ],
 "metadata": {
  "kernelspec": {
   "display_name": "Python 3 (ipykernel)",
   "language": "python",
   "name": "python3"
  },
  "language_info": {
   "codemirror_mode": {
    "name": "ipython",
    "version": 3
   },
   "file_extension": ".py",
   "mimetype": "text/x-python",
   "name": "python",
   "nbconvert_exporter": "python",
   "pygments_lexer": "ipython3",
   "version": "3.11.4"
  }
 },
 "nbformat": 4,
 "nbformat_minor": 5
}
